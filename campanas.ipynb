{
 "cells": [
  {
   "cell_type": "code",
   "execution_count": 1,
   "metadata": {},
   "outputs": [],
   "source": [
    "import matplotlib.pyplot as plt\n",
    "import numpy as np\n",
    "import psycopg2 as pg\n",
    "\n",
    "conn = pg.connect(host='diplomadouch.c7gnwitpyeru.us-east-1.rds.amazonaws.com',\n",
    "                  user='postgres',\n",
    "                  password='DiplomadoUch',\n",
    "                  dbname='diplomado',\n",
    "                  port='5432')"
   ]
  },
  {
   "cell_type": "code",
   "execution_count": 2,
   "metadata": {},
   "outputs": [],
   "source": [
    "import pandas as pd\n",
    "\n",
    "datos = pd.read_sql_query('SELECT * FROM data_campanas', conn)\n",
    "df = datos.to_csv('datos.csv')"
   ]
  },
  {
   "cell_type": "code",
   "execution_count": 11,
   "metadata": {},
   "outputs": [],
   "source": [
    "dataset = pd.read_csv('datos.csv', skiprows=1)"
   ]
  },
  {
   "cell_type": "code",
   "execution_count": 12,
   "metadata": {},
   "outputs": [
    {
     "output_type": "execute_result",
     "data": {
      "text/html": "<div>\n<style scoped>\n    .dataframe tbody tr th:only-of-type {\n        vertical-align: middle;\n    }\n\n    .dataframe tbody tr th {\n        vertical-align: top;\n    }\n\n    .dataframe thead th {\n        text-align: right;\n    }\n</style>\n<table border=\"1\" class=\"dataframe\">\n  <thead>\n    <tr style=\"text-align: right;\">\n      <th></th>\n      <th>0</th>\n      <th>1</th>\n      <th>4 y 5 Meses Vigencia 20200101</th>\n      <th>14-02-1978</th>\n      <th>41</th>\n      <th>Masculino</th>\n      <th>Preferencial</th>\n      <th>Casado</th>\n      <th>SAN MIGUEL</th>\n      <th>AREA METROPOLITANA</th>\n      <th>...</th>\n      <th>Accidente Devolución Plan 1</th>\n      <th>SALIR PROT / VIDA L / PROT PERSONAL / HOGAR / ONCOLOGICO / APOYO SALUD</th>\n      <th>2</th>\n      <th>Inubicable</th>\n      <th>No Contesta</th>\n      <th>2.1</th>\n      <th>N Vancante / Desconectado Temporalmente</th>\n      <th>1084</th>\n      <th>03/02/2020</th>\n      <th>18:32:08</th>\n    </tr>\n  </thead>\n  <tbody>\n    <tr>\n      <th>0</th>\n      <td>1</td>\n      <td>2</td>\n      <td>1 Ano Vigencia 202002</td>\n      <td>08-11-1968</td>\n      <td>51</td>\n      <td>Masculino</td>\n      <td>Preferencial</td>\n      <td>Separado</td>\n      <td>PUDAHUEL</td>\n      <td>AREA METROPOLITANA</td>\n      <td>...</td>\n      <td>Oncologico Libre Eleccion Titular</td>\n      <td>SEGURO 360 / VIDA L /</td>\n      <td>9.0</td>\n      <td>Efectivo</td>\n      <td>No Interesa</td>\n      <td>2.0</td>\n      <td>NaN</td>\n      <td>1023</td>\n      <td>07/02/2020</td>\n      <td>12:12:34</td>\n    </tr>\n    <tr>\n      <th>1</th>\n      <td>2</td>\n      <td>3</td>\n      <td>4 y 5 Meses Vigencia 20200101</td>\n      <td>31-08-1981</td>\n      <td>38</td>\n      <td>Femenino</td>\n      <td>Preferencial</td>\n      <td>Casado</td>\n      <td>QUILLOTA</td>\n      <td>QUINTA REGION</td>\n      <td>...</td>\n      <td>Escolaridad Devolución Plan 1</td>\n      <td>SALIR PROT /</td>\n      <td>9.0</td>\n      <td>Efectivo</td>\n      <td>Manifiesta Interes</td>\n      <td>0.0</td>\n      <td>NaN</td>\n      <td>1031</td>\n      <td>31/01/2020</td>\n      <td>18:03:12</td>\n    </tr>\n    <tr>\n      <th>2</th>\n      <td>3</td>\n      <td>4</td>\n      <td>BDD_Mapfre Seguros Generales Encuesta 20200101</td>\n      <td>14-05-1977</td>\n      <td>42</td>\n      <td>Masculino</td>\n      <td>Preferencial</td>\n      <td>Divorciado</td>\n      <td>ANTOFAGASTA</td>\n      <td>SEGUNDA REGION</td>\n      <td>...</td>\n      <td>Vehiculo Auto Pro UF 10 Deducible</td>\n      <td>NaN</td>\n      <td>9.0</td>\n      <td>Inubicable</td>\n      <td>No Contesta</td>\n      <td>0.0</td>\n      <td>NaN</td>\n      <td>1040</td>\n      <td>13/01/2020</td>\n      <td>12:11:01</td>\n    </tr>\n    <tr>\n      <th>3</th>\n      <td>4</td>\n      <td>5</td>\n      <td>Bienvenida Nuevos Productos FIDELIZACION 20200501</td>\n      <td>13-04-1978</td>\n      <td>42</td>\n      <td>Masculino</td>\n      <td>Selecto</td>\n      <td>Soltero</td>\n      <td>SAN PEDRO DE LA PAZ</td>\n      <td>OCTAVA REGION</td>\n      <td>...</td>\n      <td>Vida Legal Tmk</td>\n      <td>MACC / ESCOLAR / HOGAR /</td>\n      <td>9.0</td>\n      <td>Efectivo</td>\n      <td>Acepta Seguro</td>\n      <td>41.0</td>\n      <td>NaN</td>\n      <td>790</td>\n      <td>04/05/2020</td>\n      <td>13:15:15</td>\n    </tr>\n    <tr>\n      <th>4</th>\n      <td>5</td>\n      <td>6</td>\n      <td>1 Ano Vigencia 20200101</td>\n      <td>17-12-1980</td>\n      <td>38</td>\n      <td>Femenino</td>\n      <td>Preferencial</td>\n      <td>Separado</td>\n      <td>PUERTO VARAS</td>\n      <td>DECIMA REGION</td>\n      <td>...</td>\n      <td>Escolaridad Devolución Plan 1</td>\n      <td>SALIR PROT / VIDA L / HOGAR / ONCOLOGICO / APO...</td>\n      <td>9.0</td>\n      <td>Efectivo</td>\n      <td>No Interesa</td>\n      <td>0.0</td>\n      <td>NaN</td>\n      <td>1076</td>\n      <td>22/01/2020</td>\n      <td>17:44:41</td>\n    </tr>\n  </tbody>\n</table>\n<p>5 rows × 23 columns</p>\n</div>",
      "text/plain": "   0  1                      4 y 5 Meses Vigencia 20200101  14-02-1978  41  \\\n0  1  2                              1 Ano Vigencia 202002  08-11-1968  51   \n1  2  3                      4 y 5 Meses Vigencia 20200101  31-08-1981  38   \n2  3  4     BDD_Mapfre Seguros Generales Encuesta 20200101  14-05-1977  42   \n3  4  5  Bienvenida Nuevos Productos FIDELIZACION 20200501  13-04-1978  42   \n4  5  6                            1 Ano Vigencia 20200101  17-12-1980  38   \n\n   Masculino  Preferencial      Casado           SAN MIGUEL  \\\n0  Masculino  Preferencial    Separado             PUDAHUEL   \n1   Femenino  Preferencial      Casado             QUILLOTA   \n2  Masculino  Preferencial  Divorciado          ANTOFAGASTA   \n3  Masculino       Selecto     Soltero  SAN PEDRO DE LA PAZ   \n4   Femenino  Preferencial    Separado         PUERTO VARAS   \n\n   AREA METROPOLITANA  ...        Accidente Devolución Plan 1  \\\n0  AREA METROPOLITANA  ...  Oncologico Libre Eleccion Titular   \n1      QUINTA REGION   ...      Escolaridad Devolución Plan 1   \n2      SEGUNDA REGION  ...  Vehiculo Auto Pro UF 10 Deducible   \n3      OCTAVA REGION   ...                     Vida Legal Tmk   \n4      DECIMA REGION   ...      Escolaridad Devolución Plan 1   \n\n  SALIR PROT / VIDA L / PROT PERSONAL / HOGAR / ONCOLOGICO / APOYO SALUD   \\\n0                             SEGURO 360 / VIDA L /                         \n1                                      SALIR PROT /                         \n2                                                NaN                        \n3                          MACC / ESCOLAR / HOGAR /                         \n4  SALIR PROT / VIDA L / HOGAR / ONCOLOGICO / APO...                        \n\n     2  Inubicable         No Contesta   2.1  \\\n0  9.0    Efectivo         No Interesa   2.0   \n1  9.0    Efectivo  Manifiesta Interes   0.0   \n2  9.0  Inubicable         No Contesta   0.0   \n3  9.0    Efectivo       Acepta Seguro  41.0   \n4  9.0    Efectivo         No Interesa   0.0   \n\n  N Vancante / Desconectado Temporalmente  1084  03/02/2020  18:32:08  \n0                                     NaN  1023  07/02/2020  12:12:34  \n1                                     NaN  1031  31/01/2020  18:03:12  \n2                                     NaN  1040  13/01/2020  12:11:01  \n3                                     NaN   790  04/05/2020  13:15:15  \n4                                     NaN  1076  22/01/2020  17:44:41  \n\n[5 rows x 23 columns]"
     },
     "metadata": {},
     "execution_count": 12
    }
   ],
   "source": [
    "dataset.head()"
   ]
  },
  {
   "cell_type": "code",
   "execution_count": null,
   "metadata": {},
   "outputs": [],
   "source": []
  }
 ],
 "metadata": {
  "language_info": {
   "codemirror_mode": {
    "name": "ipython",
    "version": 3
   },
   "file_extension": ".py",
   "mimetype": "text/x-python",
   "name": "python",
   "nbconvert_exporter": "python",
   "pygments_lexer": "ipython3",
   "version": "3.5.6-final"
  },
  "orig_nbformat": 2,
  "kernelspec": {
   "name": "python35664bitmachinelearningpyconda6070a83ccb8f4cc7aacabbb1888569a2",
   "display_name": "Python 3.5.6 64-bit ('machine_learning_py': conda)"
  }
 },
 "nbformat": 4,
 "nbformat_minor": 2
}